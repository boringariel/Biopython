{
 "cells": [
  {
   "cell_type": "markdown",
   "metadata": {},
   "source": [
    "## DNA 서열 관리 프로그램\n",
    "---\n",
    "* 이 프로그램의 실행에는 Biopython 모듈과 cx_Oracle의 설치가 필요합니다.\n",
    "---\n",
    "* 상단 메뉴의 Kernel - Restart & Rul All을 눌러 프로그램을 초기화한 상태로 실행 가능합니다.\n",
    "* NCBI FASTA 형식을 그대로 붙여넣기하여 DB에 등록할 수 있습니다."
   ]
  },
  {
   "cell_type": "code",
   "execution_count": null,
   "metadata": {},
   "outputs": [],
   "source": [
    "#Biopython 모듈 설치\n",
    "!pip install biopython\n",
    "\n",
    "#cx_Oracle 모듈 설치\n",
    "!pip install biopython"
   ]
  },
  {
   "cell_type": "code",
   "execution_count": null,
   "metadata": {},
   "outputs": [],
   "source": [
    "from Bio.Seq import Seq\n",
    "from Bio.Alphabet import IUPAC\n",
    "from Bio.SeqUtils import GC\n",
    "import cx_Oracle\n",
    "import pandas as pd\n",
    "from IPython.display import display"
   ]
  },
  {
   "cell_type": "code",
   "execution_count": null,
   "metadata": {},
   "outputs": [],
   "source": [
    "def exit():\n",
    "    print(\"\\n--------------------------\")\n",
    "    print(\"프로그램 종료\")"
   ]
  },
  {
   "cell_type": "code",
   "execution_count": null,
   "metadata": {},
   "outputs": [],
   "source": [
    "def DNA_edit():    \n",
    "    DNA = input(\"편집할 DNA 서열을 입력하세요: \").replace(\"N\",\"\")\n",
    "    DNA = Seq(''.join(DNA.split(' ')),IUPAC.unambiguous_dna)\n",
    "\n",
    "    while(1):\n",
    "        print(\"\\n--------------------------\")\n",
    "        print(\"1. DNA transcription\")\n",
    "        print(\"2. DNA translation\")\n",
    "        print(\"3. complement sequence\")\n",
    "        print(\"4. GC contents\")\n",
    "        print(\"5. 이전 메뉴로\")\n",
    "        print(\"9. 프로그램 종료\")\n",
    "        req = 0\n",
    "\n",
    "        req = int(input(\"원하는 메뉴를 선택하세요: \"))\n",
    "\n",
    "        if(req == 1):\n",
    "            mRNA = DNA.transcribe()\n",
    "            print(\"\\n--------------------------\")\n",
    "            print(\"변환된 mRNA 서열: \"+mRNA)\n",
    "        elif(req == 2):\n",
    "            mRNA = DNA.transcribe()\n",
    "            protein = mRNA.translate()\n",
    "            print(\"\\n--------------------------\")\n",
    "            print(\"변환된 아미노산 서열: \"+protein)\n",
    "        elif(req == 3):\n",
    "            DNA_comp = DNA.complement()\n",
    "            print(\"\\n--------------------------\")\n",
    "            print(\"상보서열: \"+DNA_comp)\n",
    "        elif(req == 4):\n",
    "            GC_per = GC(DNA)\n",
    "            print(\"\\n--------------------------\")\n",
    "            print(\"GC contents: \"+str(GC_per)+\"%\")\n",
    "        elif(req == 5):\n",
    "            print(\"\\n--------------------------\")\n",
    "            main()\n",
    "        elif(req == 9):\n",
    "            exit()"
   ]
  },
  {
   "cell_type": "code",
   "execution_count": null,
   "metadata": {},
   "outputs": [],
   "source": [
    "def DB_view():\n",
    "    print(\"\\n--------------------------\")\n",
    "    print(\"1. 신규 등록\")\n",
    "    print(\"2. DB 열기\")\n",
    "    print(\"3. DB 검색(일련번호)\")\n",
    "    print(\"4. DB 검색(키워드)\")\n",
    "    print(\"5. 이전 메뉴로\")\n",
    "    print(\"9. 프로그램 종료\")\n",
    "    req = 0\n",
    "\n",
    "    req = int(input(\"원하는 메뉴를 선택하세요: \"))\n",
    "\n",
    "    if(req == 1):\n",
    "        print(\"\\n--------------------------\")\n",
    "        DNA = input(\"등록할 NCBI FASTA 파일(DNA)을 붙여넣기하세요: \")\n",
    "        tag = DNA.split('>')[1:][0].split()[0]\n",
    "        name = ' '.join(DNA.split('>')[1:][0].split(',')[0].split()[1:])\n",
    "        DNA_seq = Seq(''.join(DNA.split('>')[1:][0].split(',')[-1].split()[2:]).replace(\"N\",\"\"),IUPAC.unambiguous_dna)\n",
    "        mRNA = DNA_seq.transcribe()\n",
    "        protein = mRNA.translate()\n",
    "        GC_per = GC(DNA_seq)\n",
    "        \n",
    "        conn = cx_Oracle.connect('scott/tiger@localhost:1521/xe')\n",
    "\n",
    "        cursor = conn.cursor()\n",
    "\n",
    "        cursor.execute(\"insert into DNA values('%s','%s','%s','%s','%s',%d)\" %(tag,name,str(DNA_seq),str(mRNA),str(protein),GC_per))\n",
    "        cursor.execute(\"commit\")\n",
    "\n",
    "        cursor.close()\n",
    "        conn.close()\n",
    "        \n",
    "        print(\"\\n--------------------------\")\n",
    "        print(\"FASTA 파일을 DB에 등록하였습니다\")\n",
    "        \n",
    "        DB_view()\n",
    "        \n",
    "    elif(req == 2):\n",
    "        print(\"\\n--------------------------\")\n",
    "        conn = cx_Oracle.connect('scott/tiger@localhost:1521/xe')\n",
    "\n",
    "        display(pd.read_sql(\"SELECT * FROM DNA\", conn))\n",
    "\n",
    "        conn.close()\n",
    "        \n",
    "        DB_view()\n",
    "        \n",
    "    elif(req == 3):\n",
    "        print(\"\\n--------------------------\")\n",
    "        tag = input(\"검색할 gene의 NCBI 일련번호를 입력하세요: \")\n",
    "\n",
    "        conn = cx_Oracle.connect('scott/tiger@localhost:1521/xe')\n",
    "        \n",
    "        print(\"\\n--------------------------\")\n",
    "        \n",
    "        \n",
    "        display(pd.read_sql('select * from DNA where tag = \\'%s\\'' %tag, conn))\n",
    "\n",
    "        conn.close()\n",
    "        \n",
    "        DB_view()\n",
    "        \n",
    "    elif(req == 4):\n",
    "        print(\"\\n--------------------------\")\n",
    "        tag = input(\"검색할 gene의 이름 일부를 입력하세요: \")\n",
    "\n",
    "        conn = cx_Oracle.connect('scott/tiger@localhost:1521/xe')\n",
    "        \n",
    "        print(\"\\n--------------------------\")\n",
    "        \n",
    "        display(pd.read_sql(\"select * from DNA where name like '%%%s%%' \" %tag, conn))\n",
    "\n",
    "        conn.close()\n",
    "        \n",
    "        DB_view()\n",
    "        \n",
    "    elif(req == 5):\n",
    "        print(\"\\n--------------------------\")\n",
    "        main()\n",
    "    elif(req == 9):\n",
    "        exit()"
   ]
  },
  {
   "cell_type": "code",
   "execution_count": null,
   "metadata": {
    "scrolled": true
   },
   "outputs": [],
   "source": [
    "def main():\n",
    "    print(\"1. DNA 서열 편집\")\n",
    "    print(\"2. DB 관리\")\n",
    "    print(\"3. 프로그램 종료\")\n",
    "    req = 0\n",
    "\n",
    "    while(req == 0):\n",
    "        req = int(input(\"원하는 메뉴를 선택하세요: \"))\n",
    "\n",
    "        if(req == 1):\n",
    "            print(\"\\n--------------------------\")\n",
    "            print(\"DNA 서열 편집\")\n",
    "            DNA_edit()\n",
    "        elif(req == 2):\n",
    "            DB_view()\n",
    "        elif(req == 3):\n",
    "            exit()"
   ]
  },
  {
   "cell_type": "code",
   "execution_count": null,
   "metadata": {
    "scrolled": true
   },
   "outputs": [],
   "source": [
    "#프로그램 실행\n",
    "main()"
   ]
  }
 ],
 "metadata": {
  "kernelspec": {
   "display_name": "Python 3",
   "language": "python",
   "name": "python3"
  },
  "language_info": {
   "codemirror_mode": {
    "name": "ipython",
    "version": 3
   },
   "file_extension": ".py",
   "mimetype": "text/x-python",
   "name": "python",
   "nbconvert_exporter": "python",
   "pygments_lexer": "ipython3",
   "version": "3.6.5"
  }
 },
 "nbformat": 4,
 "nbformat_minor": 2
}
