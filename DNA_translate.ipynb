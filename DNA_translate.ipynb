{
 "cells": [
  {
   "cell_type": "markdown",
   "metadata": {},
   "source": [
    "### 바이오파이썬을 이용한 Sequence 조작\n",
    "* Mus musculus TNFA gene을 이용함.\n",
    "* gene data source: https://www.ncbi.nlm.nih.gov/nuccore/D84199.2\n",
    "* Sequence 종류 분류, 상보/역상보서열 구하기, GC contents 계산, 전사/번역과정 파악\n",
    "\n",
    "---\n",
    "\n",
    "* Sequence 형식 지정 및 종류 분류하기"
   ]
  },
  {
   "cell_type": "code",
   "execution_count": 1,
   "metadata": {},
   "outputs": [],
   "source": [
    "from Bio.Seq import Seq # Seq 모듈 불러오기"
   ]
  },
  {
   "cell_type": "code",
   "execution_count": 2,
   "metadata": {},
   "outputs": [
    {
     "data": {
      "text/plain": [
       "Seq('ACCATGAGCACAGAAAGCATGATCCGCGACGTGGAACTGGCAGAAGAGGCACTC...AGA', Alphabet())"
      ]
     },
     "execution_count": 2,
     "metadata": {},
     "output_type": "execute_result"
    }
   ],
   "source": [
    "# 새로운 Sequence 지정\n",
    "tnfa = '''ACCATGAGCACAGAAAGCATGATCCGCGACGTGGAACTGGCAGAAGAGGCACTCCCCCAAAAGATGGGGG\n",
    "GCTTCCAGAACTCCAGGCGGTGCCTATGTCTCAGCCTCTTCTCATTCCTGCTTGTGGCAGGGGCCACCAC\n",
    "GCTCTTCTGTCTACTGAACTTCGGGGTGATCGGTCCCCAAAGGGATGAGGTGAGTNNNNNNNNNNNNNNN\n",
    "NNNNNNNNNNNNNNNNNNNNNNNNNNNNNNNNNNNNNNNNNNNNNNNNNNNNNNNNNNNNNNNNNNNNNN\n",
    "NNNNNNNNNNNNNNNCTCCTTCTTTTCCTACACAGAAGTTCCCAAATGGCCTCCCTCTCATCAGTTCTAT\n",
    "GGCCCAGACCCTCACACTCAGTAAGTGTTCCCACACCTCTCTCTTAATTTAAGATGGAGGAAGGGCAGTT\n",
    "AGGCATGGGATGAGATGGGGTGGGGGGAGAACTTAAAGCTTTGGTTTGGGAGGAAAGGGGTCTAAGTGCA\n",
    "TAGATGCTTGCTGGGAAGCCTAAAAGGCTCATCCTTGCCTTTGTCTCTTCCCCTCCAGGATCATCTTCTC\n",
    "AAAATTCGAGTGACAAGCCTGTAGCCCACGTCGTAGGTAANNNNNNNNNNNNNNNNNNNNNNNNNNNNNN\n",
    "NNNNNNNNNNNNNNNNNNNNNNNNNNNNNNNNNNNNNNNNNNNNNNNNNNNNNNNNNNNNNNNNNNNNNN\n",
    "CCCCCCCCCCTCAGCAAACCACCAAGTGGAGGAGCAGCTGGAGTGGCTGAGCCAGCGCGCCAACGCCCTC\n",
    "CTGGCCAACGGCATGGATCTCAAAGACAACCAACTAGTGGTGCCAGCCGATGGGTTGTACCTTGTCTACT\n",
    "CCCAGGTTCTCTTCAAGGGACAAGGCTGCCCCGACTACGTGCTCCTCACCCACACCGTCAGCCGATTTGC\n",
    "TATCTCATACCAGGAGAAAGTCAACCTCCTCTCTGCCGTCAAGAGCCCCTGCCCCAAGGACACCCCTGAG\n",
    "GGGGCTGAGCTCAAACCCTGGTATGAGCCCATATACCTGGGAGGAGTCTTCCAGCTGGAGAAGGGGGACC\n",
    "AACTCAGCGCTGAGGTCAATCTGCCCAAGTACTTAGACTTTGCGGAGTCCGGGCAGGTCTACTTTGGAGT\n",
    "CATTGCTCTGTGAAGA'''\n",
    "\n",
    "# Seq 형식으로 지정. 문자열의 기능을 대부분 사용 가능\n",
    "tnfa = Seq(''.join(tnfa.split('\\n')))\n",
    "tnfa\n",
    "\n",
    "# Seq 형식을 문자열로 변환하기도 가능\n",
    "# str(tnfa)"
   ]
  },
  {
   "cell_type": "code",
   "execution_count": 3,
   "metadata": {
    "scrolled": false
   },
   "outputs": [
    {
     "data": {
      "text/plain": [
       "Seq('ACCATGAGCACAGAAAGCATGATCCGCGACGTGGAACTGGCAGAAGAGGCACTC...AGA', IUPACUnambiguousDNA())"
      ]
     },
     "execution_count": 3,
     "metadata": {},
     "output_type": "execute_result"
    }
   ],
   "source": [
    "# IUPAC 메소드 형식 지정하기 (DNA/RNA/Protein 분류)\n",
    "# 같은 형식(DNA-DNA, RNA-RNA, Protein-Protein) 간에만 연산이 가능함\n",
    "from Bio.Alphabet import IUPAC\n",
    "\n",
    "tnfa = '''ACCATGAGCACAGAAAGCATGATCCGCGACGTGGAACTGGCAGAAGAGGCACTCCCCCAAAAGATGGGGG\n",
    "GCTTCCAGAACTCCAGGCGGTGCCTATGTCTCAGCCTCTTCTCATTCCTGCTTGTGGCAGGGGCCACCAC\n",
    "GCTCTTCTGTCTACTGAACTTCGGGGTGATCGGTCCCCAAAGGGATGAGGTGAGTNNNNNNNNNNNNNNN\n",
    "NNNNNNNNNNNNNNNNNNNNNNNNNNNNNNNNNNNNNNNNNNNNNNNNNNNNNNNNNNNNNNNNNNNNNN\n",
    "NNNNNNNNNNNNNNNCTCCTTCTTTTCCTACACAGAAGTTCCCAAATGGCCTCCCTCTCATCAGTTCTAT\n",
    "GGCCCAGACCCTCACACTCAGTAAGTGTTCCCACACCTCTCTCTTAATTTAAGATGGAGGAAGGGCAGTT\n",
    "AGGCATGGGATGAGATGGGGTGGGGGGAGAACTTAAAGCTTTGGTTTGGGAGGAAAGGGGTCTAAGTGCA\n",
    "TAGATGCTTGCTGGGAAGCCTAAAAGGCTCATCCTTGCCTTTGTCTCTTCCCCTCCAGGATCATCTTCTC\n",
    "AAAATTCGAGTGACAAGCCTGTAGCCCACGTCGTAGGTAANNNNNNNNNNNNNNNNNNNNNNNNNNNNNN\n",
    "NNNNNNNNNNNNNNNNNNNNNNNNNNNNNNNNNNNNNNNNNNNNNNNNNNNNNNNNNNNNNNNNNNNNNN\n",
    "CCCCCCCCCCTCAGCAAACCACCAAGTGGAGGAGCAGCTGGAGTGGCTGAGCCAGCGCGCCAACGCCCTC\n",
    "CTGGCCAACGGCATGGATCTCAAAGACAACCAACTAGTGGTGCCAGCCGATGGGTTGTACCTTGTCTACT\n",
    "CCCAGGTTCTCTTCAAGGGACAAGGCTGCCCCGACTACGTGCTCCTCACCCACACCGTCAGCCGATTTGC\n",
    "TATCTCATACCAGGAGAAAGTCAACCTCCTCTCTGCCGTCAAGAGCCCCTGCCCCAAGGACACCCCTGAG\n",
    "GGGGCTGAGCTCAAACCCTGGTATGAGCCCATATACCTGGGAGGAGTCTTCCAGCTGGAGAAGGGGGACC\n",
    "AACTCAGCGCTGAGGTCAATCTGCCCAAGTACTTAGACTTTGCGGAGTCCGGGCAGGTCTACTTTGGAGT\n",
    "CATTGCTCTGTGAAGA'''.replace(\"N\",\"\")\n",
    "\n",
    "tnfa = Seq(''.join(tnfa.split('\\n')),IUPAC.unambiguous_dna)\n",
    "tnfa"
   ]
  },
  {
   "cell_type": "markdown",
   "metadata": {},
   "source": [
    "---\n",
    "#### 상보/역상보서열 구하기"
   ]
  },
  {
   "cell_type": "code",
   "execution_count": 4,
   "metadata": {},
   "outputs": [
    {
     "data": {
      "text/plain": [
       "Seq('TGGTACTCGTGTCTTTCGTACTAGGCGCTGCACCTTGACCGTCTTCTCCGTGAG...TCT', IUPACUnambiguousDNA())"
      ]
     },
     "execution_count": 4,
     "metadata": {},
     "output_type": "execute_result"
    }
   ],
   "source": [
    "# Sequence의 상보서열 구하기\n",
    "tnfa.complement()"
   ]
  },
  {
   "cell_type": "code",
   "execution_count": 5,
   "metadata": {
    "scrolled": true
   },
   "outputs": [
    {
     "data": {
      "text/plain": [
       "Seq('TCTTCACAGAGCAATGACTCCAAAGTAGACCTGCCCGGACTCCGCAAAGTCTAA...GGT', IUPACUnambiguousDNA())"
      ]
     },
     "execution_count": 5,
     "metadata": {},
     "output_type": "execute_result"
    }
   ],
   "source": [
    "# Sequence의 역상보서열 구하기\n",
    "# tnfa.complement()[::-1] 와 같은 결과를 보인다\n",
    "tnfa.reverse_complement()"
   ]
  },
  {
   "cell_type": "markdown",
   "metadata": {},
   "source": [
    "---\n",
    "#### GC contents 계산하기 (전체 염기 중 G+C의 비율)\n",
    "* print(float(tnfa.count(\"G\")+tnfa.count(\"C\"))/len(tnfa)*100)\n",
    "* 위 코드로 처리하려면 코드 길이가 길어진다. 따라서 GC 모듈을 이용해 간편하게 처리한다"
   ]
  },
  {
   "cell_type": "code",
   "execution_count": 6,
   "metadata": {
    "scrolled": true
   },
   "outputs": [
    {
     "data": {
      "text/plain": [
       "55.34188034188034"
      ]
     },
     "execution_count": 6,
     "metadata": {},
     "output_type": "execute_result"
    }
   ],
   "source": [
    "from Bio.SeqUtils import GC\n",
    "GC(tnfa)"
   ]
  },
  {
   "cell_type": "markdown",
   "metadata": {},
   "source": [
    "---\n",
    "#### 전사/번역과정 알아보기\n",
    "* template = 역상보서열\n",
    "* mRNA\n",
    "* translate"
   ]
  },
  {
   "cell_type": "code",
   "execution_count": 7,
   "metadata": {},
   "outputs": [
    {
     "data": {
      "text/plain": [
       "<bound method Seq.reverse_complement of Seq('ACCATGAGCACAGAAAGCATGATCCGCGACGTGGAACTGGCAGAAGAGGCACTC...AGA', IUPACUnambiguousDNA())>"
      ]
     },
     "execution_count": 7,
     "metadata": {},
     "output_type": "execute_result"
    }
   ],
   "source": [
    "tnfa_template = tnfa.reverse_complement\n",
    "tnfa_template"
   ]
  },
  {
   "cell_type": "code",
   "execution_count": 8,
   "metadata": {},
   "outputs": [
    {
     "data": {
      "text/plain": [
       "Seq('ACCAUGAGCACAGAAAGCAUGAUCCGCGACGUGGAACUGGCAGAAGAGGCACUC...AGA', IUPACUnambiguousRNA())"
      ]
     },
     "execution_count": 8,
     "metadata": {},
     "output_type": "execute_result"
    }
   ],
   "source": [
    "tnfa_mRNA = tnfa.transcribe()\n",
    "tnfa_mRNA"
   ]
  },
  {
   "cell_type": "code",
   "execution_count": 9,
   "metadata": {},
   "outputs": [
    {
     "data": {
      "text/plain": [
       "Seq('TMSTESMIRDVELAEEALPQKMGGFQNSRRCLCLSLFSFLLVAGATTLFCLLNF...L*R', HasStopCodon(IUPACProtein(), '*'))"
      ]
     },
     "execution_count": 9,
     "metadata": {},
     "output_type": "execute_result"
    }
   ],
   "source": [
    "tnfa_protein = tnfa_mRNA.translate()\n",
    "tnfa_protein"
   ]
  },
  {
   "cell_type": "markdown",
   "metadata": {},
   "source": [
    "---"
   ]
  },
  {
   "cell_type": "code",
   "execution_count": 10,
   "metadata": {},
   "outputs": [],
   "source": [
    "# 코돈 테이블이 다른 종의 경우, 조정할 필요가 있다\n",
    "from Bio.Data import CodonTable\n",
    "\n",
    "standard_table = CodonTable.unambiguous_dna_by_name[\"Standard\"]\n",
    "mycoplasma_table = CodonTable.unambiguous_dna_by_name[\"Mycoplasma\"]"
   ]
  },
  {
   "cell_type": "code",
   "execution_count": 11,
   "metadata": {
    "scrolled": true
   },
   "outputs": [
    {
     "name": "stdout",
     "output_type": "stream",
     "text": [
      "Table 1 Standard, SGC0\n",
      "\n",
      "  |  T      |  C      |  A      |  G      |\n",
      "--+---------+---------+---------+---------+--\n",
      "T | TTT F   | TCT S   | TAT Y   | TGT C   | T\n",
      "T | TTC F   | TCC S   | TAC Y   | TGC C   | C\n",
      "T | TTA L   | TCA S   | TAA Stop| TGA Stop| A\n",
      "T | TTG L(s)| TCG S   | TAG Stop| TGG W   | G\n",
      "--+---------+---------+---------+---------+--\n",
      "C | CTT L   | CCT P   | CAT H   | CGT R   | T\n",
      "C | CTC L   | CCC P   | CAC H   | CGC R   | C\n",
      "C | CTA L   | CCA P   | CAA Q   | CGA R   | A\n",
      "C | CTG L(s)| CCG P   | CAG Q   | CGG R   | G\n",
      "--+---------+---------+---------+---------+--\n",
      "A | ATT I   | ACT T   | AAT N   | AGT S   | T\n",
      "A | ATC I   | ACC T   | AAC N   | AGC S   | C\n",
      "A | ATA I   | ACA T   | AAA K   | AGA R   | A\n",
      "A | ATG M(s)| ACG T   | AAG K   | AGG R   | G\n",
      "--+---------+---------+---------+---------+--\n",
      "G | GTT V   | GCT A   | GAT D   | GGT G   | T\n",
      "G | GTC V   | GCC A   | GAC D   | GGC G   | C\n",
      "G | GTA V   | GCA A   | GAA E   | GGA G   | A\n",
      "G | GTG V   | GCG A   | GAG E   | GGG G   | G\n",
      "--+---------+---------+---------+---------+--\n"
     ]
    }
   ],
   "source": [
    "print(standard_table)"
   ]
  },
  {
   "cell_type": "code",
   "execution_count": 12,
   "metadata": {
    "scrolled": true
   },
   "outputs": [
    {
     "name": "stdout",
     "output_type": "stream",
     "text": [
      "Table 4 Mold Mitochondrial, Protozoan Mitochondrial, Coelenterate Mitochondrial, Mycoplasma, Spiroplasma, SGC3\n",
      "\n",
      "  |  T      |  C      |  A      |  G      |\n",
      "--+---------+---------+---------+---------+--\n",
      "T | TTT F   | TCT S   | TAT Y   | TGT C   | T\n",
      "T | TTC F   | TCC S   | TAC Y   | TGC C   | C\n",
      "T | TTA L(s)| TCA S   | TAA Stop| TGA W   | A\n",
      "T | TTG L(s)| TCG S   | TAG Stop| TGG W   | G\n",
      "--+---------+---------+---------+---------+--\n",
      "C | CTT L   | CCT P   | CAT H   | CGT R   | T\n",
      "C | CTC L   | CCC P   | CAC H   | CGC R   | C\n",
      "C | CTA L   | CCA P   | CAA Q   | CGA R   | A\n",
      "C | CTG L(s)| CCG P   | CAG Q   | CGG R   | G\n",
      "--+---------+---------+---------+---------+--\n",
      "A | ATT I(s)| ACT T   | AAT N   | AGT S   | T\n",
      "A | ATC I(s)| ACC T   | AAC N   | AGC S   | C\n",
      "A | ATA I(s)| ACA T   | AAA K   | AGA R   | A\n",
      "A | ATG M(s)| ACG T   | AAG K   | AGG R   | G\n",
      "--+---------+---------+---------+---------+--\n",
      "G | GTT V   | GCT A   | GAT D   | GGT G   | T\n",
      "G | GTC V   | GCC A   | GAC D   | GGC G   | C\n",
      "G | GTA V   | GCA A   | GAA E   | GGA G   | A\n",
      "G | GTG V(s)| GCG A   | GAG E   | GGG G   | G\n",
      "--+---------+---------+---------+---------+--\n"
     ]
    }
   ],
   "source": [
    "print(mycoplasma_table)"
   ]
  },
  {
   "cell_type": "code",
   "execution_count": 13,
   "metadata": {},
   "outputs": [
    {
     "data": {
      "text/plain": [
       "['TTA', 'TTG', 'CTG', 'ATT', 'ATC', 'ATA', 'ATG', 'GTG']"
      ]
     },
     "execution_count": 13,
     "metadata": {},
     "output_type": "execute_result"
    }
   ],
   "source": [
    "# start codon을 알아보는 연산도 가능함\n",
    "mycoplasma_table.start_codons"
   ]
  }
 ],
 "metadata": {
  "kernelspec": {
   "display_name": "Python 3",
   "language": "python",
   "name": "python3"
  },
  "language_info": {
   "codemirror_mode": {
    "name": "ipython",
    "version": 3
   },
   "file_extension": ".py",
   "mimetype": "text/x-python",
   "name": "python",
   "nbconvert_exporter": "python",
   "pygments_lexer": "ipython3",
   "version": "3.6.5"
  }
 },
 "nbformat": 4,
 "nbformat_minor": 2
}
